{
 "cells": [
  {
   "cell_type": "markdown",
   "metadata": {},
   "source": [
    "ANOVA and Kruskal Wallis tests in R"
   ]
  },
  {
   "cell_type": "markdown",
   "metadata": {},
   "source": [
    "To run ANOVA we need the car package\n",
    "To run the post-hoc tests, we need either the mosaic, multcomp, or emmeans packages"
   ]
  },
  {
   "cell_type": "code",
   "execution_count": null,
   "metadata": {},
   "outputs": [],
   "source": [
    "library(car)\n",
    "library(mosaic)\n",
    "library(multcomp)\n",
    "library(emmeans)"
   ]
  },
  {
   "cell_type": "code",
   "execution_count": null,
   "metadata": {},
   "outputs": [],
   "source": [
    "data(iris)\n",
    "summary(iris)"
   ]
  },
  {
   "cell_type": "markdown",
   "metadata": {},
   "source": [
    "We also need to make sure our categorical data is treated as a factor"
   ]
  },
  {
   "cell_type": "code",
   "execution_count": null,
   "metadata": {},
   "outputs": [],
   "source": [
    "iris$Species<-as.factor(iris$Species)\n",
    "summary(iris$Species)\n",
    "is.factor(iris$Species)"
   ]
  },
  {
   "cell_type": "markdown",
   "metadata": {},
   "source": [
    "Test if Sepal Width is normally distributed with a Shapiro-Wilk Test"
   ]
  },
  {
   "cell_type": "code",
   "execution_count": null,
   "metadata": {},
   "outputs": [],
   "source": [
    "shapiro.test(iris$Sepal.Width)"
   ]
  },
  {
   "cell_type": "markdown",
   "metadata": {},
   "source": [
    "Because p>0.05, we fail to reject the null and conclude it is normal"
   ]
  },
  {
   "cell_type": "markdown",
   "metadata": {},
   "source": [
    "We can use an ANOVA to test if there are differences in Sepal Width among species"
   ]
  },
  {
   "cell_type": "code",
   "execution_count": null,
   "metadata": {},
   "outputs": [],
   "source": [
    "lm1<-lm(Sepal.Width~Species,data=iris)\n",
    "Anova(lm1, type=3)"
   ]
  },
  {
   "cell_type": "markdown",
   "metadata": {},
   "source": [
    "Because species p=4.49x10-17 and this is less than 0.05, we conclude there are differences among species in Sepal Width."
   ]
  },
  {
   "cell_type": "markdown",
   "metadata": {},
   "source": [
    "Let's look at a boxplot to see if this makes sense"
   ]
  },
  {
   "cell_type": "code",
   "execution_count": null,
   "metadata": {},
   "outputs": [],
   "source": [
    "boxplot(iris$Sepal.Width~iris$Species, ylab=\"Sepal.Width\", xlab=\"Species\")"
   ]
  },
  {
   "cell_type": "markdown",
   "metadata": {},
   "source": [
    "Now let's double check the ANOVA model assumptions using plot."
   ]
  },
  {
   "cell_type": "code",
   "execution_count": null,
   "metadata": {},
   "outputs": [],
   "source": [
    "plot(lm1)"
   ]
  },
  {
   "cell_type": "markdown",
   "metadata": {},
   "source": [
    "First graph is equality of variance (satisfied if horizontal line at zero)\n",
    "Second graph is normality (satisfied if points follow diagonal dotted line)\n",
    "\n",
    "Both look good so assumptions are satisfied!"
   ]
  },
  {
   "cell_type": "markdown",
   "metadata": {},
   "source": [
    "Let's figure out what species are different from on another by doing post-hoc t-tests with Tukey corrections\n",
    "\n",
    "There are 3 ways to do the post-hoc tests. They are all correct, but they have different output formats. Choose the one you like best.\n",
    "1) TukeyHSD from the mosaic package\n",
    "2) the multcomp package\n",
    "3) the emmeans package"
   ]
  },
  {
   "cell_type": "code",
   "execution_count": null,
   "metadata": {},
   "outputs": [],
   "source": [
    "TukeyHSD(lm1)"
   ]
  },
  {
   "cell_type": "markdown",
   "metadata": {},
   "source": [
    "Because all p adj<0.05 for all, we conclude all species are significantly different from each other."
   ]
  },
  {
   "cell_type": "markdown",
   "metadata": {},
   "source": [
    "From the multcomp package. Specify model (lm1) and factor (Species) and type (Tukey)"
   ]
  },
  {
   "cell_type": "code",
   "execution_count": null,
   "metadata": {},
   "outputs": [],
   "source": [
    "summary(glht(lm1,linfct=mcp(Species=\"Tukey\")))"
   ]
  },
  {
   "cell_type": "markdown",
   "metadata": {},
   "source": [
    "From the emmeans package. Specify model (lm1) and factor (Species) and type (Tukey)"
   ]
  },
  {
   "cell_type": "code",
   "execution_count": null,
   "metadata": {},
   "outputs": [],
   "source": [
    "lsmeans(lm1, pairwise ~ Species,adjust = \"Tukey\")"
   ]
  },
  {
   "cell_type": "markdown",
   "metadata": {},
   "source": [
    "Now let's test if Sepal Length is normally distributed."
   ]
  },
  {
   "cell_type": "code",
   "execution_count": null,
   "metadata": {},
   "outputs": [],
   "source": [
    "shapiro.test(iris$Sepal.Length)"
   ]
  },
  {
   "cell_type": "markdown",
   "metadata": {},
   "source": [
    "Because p<0.05, we reject the null hypothesis and conclude it is not normally distributed."
   ]
  },
  {
   "cell_type": "markdown",
   "metadata": {},
   "source": [
    "Therefore, we have to run a Kruskal-Wallis test to determine if there are differences among species in Sepal Length."
   ]
  },
  {
   "cell_type": "code",
   "execution_count": null,
   "metadata": {},
   "outputs": [],
   "source": [
    "kruskal.test(Sepal.Length~Species, data=iris)"
   ]
  },
  {
   "cell_type": "markdown",
   "metadata": {},
   "source": [
    "Because p<0.05, we reject the null hypothesis and conclude there are differences among species in Sepal Length.\n",
    "\n",
    "Let's look at a boxplot to see if this makes sense"
   ]
  },
  {
   "cell_type": "code",
   "execution_count": null,
   "metadata": {},
   "outputs": [],
   "source": [
    "boxplot(Sepal.Length~Species,data=iris, ylab=\"Sepal.Length\", xlab=\"Species\")"
   ]
  },
  {
   "cell_type": "markdown",
   "metadata": {},
   "source": [
    "To run a post-hoc tests we do pairwise Mann-Whitney U-tests using a bonferroni correction (alpha=0.05/3=0.0167)"
   ]
  },
  {
   "cell_type": "code",
   "execution_count": null,
   "metadata": {},
   "outputs": [],
   "source": [
    "0.05/3"
   ]
  },
 {
   "cell_type": "markdown",
   "metadata": {},
   "source": [
    "Create a data frame that is just the first 2 species, removing "virginica""
   ]
  },
  {
   "cell_type": "code",
   "execution_count": null,
   "metadata": {},
   "outputs": [],
   "source": [
    "iris12<-subset(iris,!iris$Species==\"virginica\")\n",
    "summary(iris12)"
   ]
  },
  {
   "cell_type": "code",
   "execution_count": null,
   "metadata": {},
   "outputs": [],
   "source": [
    "wilcox.test(Sepal.Length~Species,iris12)"
   ]
  },
  {
   "cell_type": "markdown",
   "metadata": {},
   "source": [
    "Because p<0.0167, we conclude that setosa and versicolor have different Sepal Lengths."
   ]
  },
  {
   "cell_type": "markdown",
   "metadata": {},
   "source": [
    "Create a data frame that is just the first and third species, removing "versicolor""
   ]
  },
  {
   "cell_type": "code",
   "execution_count": null,
   "metadata": {},
   "outputs": [],
   "source": [
    "iris13<-subset(iris,!iris$Species==\"versicolor\")\n",
    "summary(iris13)\n",
    "wilcox.test(Sepal.Length~Species,iris13)"
   ]
  },
  {
   "cell_type": "markdown",
   "metadata": {},
   "source": [
    "Because p<0.0167, we conclude that setosa and virginica have different Sepal Lengths."
   ]
  },
  {
   "cell_type": "markdown",
   "metadata": {},
   "source": [
    "Create a data frame that is just the second and third species, removing "setosa""
   ]
  },
  {
   "cell_type": "code",
   "execution_count": null,
   "metadata": {},
   "outputs": [],
   "source": [
    "iris23<-subset(iris,!iris$Species==\"setosa\")\n",
    "summary(iris23)\n",
    "wilcox.test(Sepal.Length~Species,iris23)"
   ]
  },
  {
   "cell_type": "markdown",
   "metadata": {},
   "source": [
    "Because p<0.0167, we conclude that versicolor and virginica have different Sepal Lengths."
   ]
  },
  {
   "cell_type": "markdown",
   "metadata": {},
   "source": [
    "Another widely used method is Dunn's test for post-hoc comparisons after a Kruskal-Wallis test has a significant result.\n",
    "\n",
    "Load the PMCMRplus package to use this test"
   ]
  },
  {
   "cell_type": "code",
   "execution_count": null,
   "metadata": {},
   "outputs": [],
   "source": [
    "library(PMCMRplus)"
   ]
  },
  {
   "cell_type": "code",
   "execution_count": null,
   "metadata": {},
   "outputs": [],
   "source": [
    "kwAllPairsDunnTest(x=iris$Sepal.Length, g=iris$Species, p.adjust.method =\"bonferroni\")"
   ]
  },
  {
   "cell_type": "markdown",
   "metadata": {},
   "source": [
    "It gives us the adjusted p-values and because all p<0.05, we can conclude that all species are different from one another in Sepal Length."
   ]
  },
  {
   "cell_type": "markdown",
   "metadata": {},
   "source": [
    "One last useful piece of information, you can create new groups from multiple variables using the \"paste\" function."
   ]
  },
  {
   "cell_type": "code",
   "execution_count": null,
   "metadata": {},
   "outputs": [],
   "source": [
    "data(SaratogaHouses)\n",
    "summary(SaratogaHouses)"
   ]
  },
  {
   "cell_type": "markdown",
   "metadata": {},
   "source": [
    "Let's create a new variable that combines heating (fuel type) and central Air "
   ]
  },
  {
   "cell_type": "code",
   "execution_count": null,
   "metadata": {},
   "outputs": [],
   "source": [
    "SaratogaHouses$Fuel.Air<-paste(SaratogaHouses$fuel,SaratogaHouses$centralAir, sep=\".\")\n",
    "table(SaratogaHouses$Fuel.Air)"
   ]
  },
  {
   "cell_type": "markdown",
   "metadata": {},
   "source": [
    "So 248 hourse have electic heating and no central air."
   ]
  },
  {
   "cell_type": "markdown",
   "metadata": {},
   "source": [
    "Let's test if the livingArea varies among the fuel/air groups."
   ]
  },
  {
   "cell_type": "code",
   "execution_count": null,
   "metadata": {},
   "outputs": [],
   "source": [
    "shapiro.test(SaratogaHouses$livingArea)"
   ]
  },
  {
   "cell_type": "code",
   "execution_count": null,
   "metadata": {},
   "outputs": [],
   "source": [
    "SaratogaHouses$Fuel.Air<-as.factor(SaratogaHouses$Fuel.Air)\n",
    "kruskal.test(livingArea~Fuel.Air,data=SaratogaHouses)"
   ]
  },
  {
   "cell_type": "code",
   "execution_count": null,
   "metadata": {},
   "outputs": [],
   "source": [
    "boxplot(livingArea~Fuel.Air,data=SaratogaHouses, ylab=\"Living Area\", xlab=\"Group\")"
   ]
  },
  {
   "cell_type": "markdown",
   "metadata": {},
   "source": [
    "Because p<0.05, we can conclude there are differences in the living area among these groups."
   ]
  }
 ],
 "metadata": {
  "kernelspec": {
   "display_name": "R",
   "language": "R",
   "name": "ir"
  },
  "language_info": {
   "codemirror_mode": "r",
   "file_extension": ".r",
   "mimetype": "text/x-r-source",
   "name": "R",
   "pygments_lexer": "r",
   "version": "3.5.1"
  }
 },
 "nbformat": 4,
 "nbformat_minor": 2
}
